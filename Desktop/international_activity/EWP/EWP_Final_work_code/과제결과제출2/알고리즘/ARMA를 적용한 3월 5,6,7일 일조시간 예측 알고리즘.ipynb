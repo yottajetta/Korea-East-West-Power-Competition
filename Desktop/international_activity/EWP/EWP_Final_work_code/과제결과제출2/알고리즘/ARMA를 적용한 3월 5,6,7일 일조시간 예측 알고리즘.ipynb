{
 "cells": [
  {
   "cell_type": "markdown",
   "metadata": {},
   "source": [
    "# 시계열 모델을 이용한 일조 예측"
   ]
  },
  {
   "cell_type": "markdown",
   "metadata": {},
   "source": [
    "### 분석 순서 \n",
    "1. 모듈 import\n",
    "2. 데이터 read 및 전처리\n",
    "3. ARMA"
   ]
  },
  {
   "cell_type": "markdown",
   "metadata": {},
   "source": [
    "### 1. 모듈 import"
   ]
  },
  {
   "cell_type": "code",
   "execution_count": 136,
   "metadata": {},
   "outputs": [],
   "source": [
    "import numpy as np\n",
    "import pandas as pd\n",
    "import matplotlib.pyplot as plt\n",
    "from pandas.tools.plotting import autocorrelation_plot\n",
    "from statsmodels.tsa.arima_model import ARIMA\n",
    "from statsmodels.tsa.statespace.sarimax import SARIMAX\n",
    "from pandas import DataFrame, datetime\n",
    "from sklearn.model_selection import train_test_split\n",
    "import statsmodels.formula.api as smf\n",
    "import statsmodels.api as sm\n",
    "from sklearn.metrics import mean_squared_error\n",
    "from sklearn.metrics import r2_score"
   ]
  },
  {
   "cell_type": "markdown",
   "metadata": {},
   "source": [
    "### 2. 데이터 read 및 전처리"
   ]
  },
  {
   "cell_type": "code",
   "execution_count": 137,
   "metadata": {},
   "outputs": [],
   "source": [
    "wt_train = pd.read_excel(\"F:\\\\2차 제출 데이터\\\\A_site_fin.xlsx\", sheet_name=0)\n",
    "wt_test = pd.read_excel(\"F:\\\\2차 제출 데이터\\\\0305_0307_update_15min.xlsx\")          \n",
    "\n",
    "wt_train = wt_train.set_index('time')\n",
    "wt_test = wt_test.set_index('Time')"
   ]
  },
  {
   "cell_type": "markdown",
   "metadata": {},
   "source": [
    "#### 2-1. 데이터 타입 변환  "
   ]
  },
  {
   "cell_type": "code",
   "execution_count": 138,
   "metadata": {
    "scrolled": false
   },
   "outputs": [],
   "source": [
    "wt_test = wt_test.astype('float64')\n",
    "wt_train = wt_train.astype('float64')"
   ]
  },
  {
   "cell_type": "markdown",
   "metadata": {},
   "source": [
    "#### 2-2. 데이터 셋 정의  "
   ]
  },
  {
   "cell_type": "code",
   "execution_count": 139,
   "metadata": {},
   "outputs": [],
   "source": [
    "endog = wt_train[['sunshine','temp','dailyAccRain','wind_velocity','airpressure','sealevelpressure','humidity',\n",
    "                 'cloud']]\n",
    "exog = wt_test[['temp','dailyAccRain','wind_velocity','airpressure','sealevelpressure','humidity','cloud']]\n",
    "\n",
    "data = endog.append(exog, sort=False)"
   ]
  },
  {
   "cell_type": "code",
   "execution_count": 140,
   "metadata": {},
   "outputs": [],
   "source": [
    "endog = data.loc[:'2019-02-23 17:45:00',:]\n",
    "exog = data.loc['2019-03-05 09:00:00':, :]"
   ]
  },
  {
   "cell_type": "markdown",
   "metadata": {},
   "source": [
    "#### 2-3. X, Y변수 설정  "
   ]
  },
  {
   "cell_type": "code",
   "execution_count": 141,
   "metadata": {},
   "outputs": [],
   "source": [
    "y = endog['sunshine']\n",
    "x = endog.drop(endog.columns[0], axis=1)    #sunshine, SolarRad 제외"
   ]
  },
  {
   "cell_type": "code",
   "execution_count": 142,
   "metadata": {
    "scrolled": true
   },
   "outputs": [],
   "source": [
    "exog = exog.drop(exog.columns[0], axis=1)"
   ]
  },
  {
   "cell_type": "markdown",
   "metadata": {},
   "source": [
    "### 3. ARMA 모형"
   ]
  },
  {
   "cell_type": "code",
   "execution_count": 143,
   "metadata": {
    "scrolled": false
   },
   "outputs": [
    {
     "name": "stderr",
     "output_type": "stream",
     "text": [
      "C:\\Anaconda\\lib\\site-packages\\statsmodels\\tsa\\base\\tsa_model.py:225: ValueWarning: A date index has been provided, but it has no associated frequency information and so will be ignored when e.g. forecasting.\n",
      "  ' ignored when e.g. forecasting.', ValueWarning)\n"
     ]
    },
    {
     "name": "stdout",
     "output_type": "stream",
     "text": [
      "                              ARMA Model Results                              \n",
      "==============================================================================\n",
      "Dep. Variable:               sunshine   No. Observations:                 3024\n",
      "Model:                     ARMA(1, 1)   Log Likelihood                6238.375\n",
      "Method:                       css-mle   S.D. of innovations              0.031\n",
      "Date:                Wed, 06 Mar 2019   AIC                         -12454.749\n",
      "Time:                        23:28:56   BIC                         -12388.591\n",
      "Sample:                             0   HQIC                        -12430.962\n",
      "                                                                              \n",
      "====================================================================================\n",
      "                       coef    std err          z      P>|z|      [0.025      0.975]\n",
      "------------------------------------------------------------------------------------\n",
      "const               -4.2588      0.956     -4.455      0.000      -6.132      -2.385\n",
      "temp                 0.0042      0.001      5.164      0.000       0.003       0.006\n",
      "dailyAccRain        -0.0048      0.001     -4.677      0.000      -0.007      -0.003\n",
      "wind_velocity        0.0016      0.001      2.401      0.016       0.000       0.003\n",
      "airpressure          0.0251      0.018      1.427      0.154      -0.009       0.060\n",
      "sealevelpressure    -0.0206      0.018     -1.174      0.241      -0.055       0.014\n",
      "humidity            -0.0021      0.000    -14.040      0.000      -0.002      -0.002\n",
      "cloud               -0.0106      0.001    -18.436      0.000      -0.012      -0.009\n",
      "ar.L1.sunshine       0.9129      0.008    112.649      0.000       0.897       0.929\n",
      "ma.L1.sunshine       0.0192      0.020      0.967      0.334      -0.020       0.058\n",
      "                                    Roots                                    \n",
      "=============================================================================\n",
      "                  Real          Imaginary           Modulus         Frequency\n",
      "-----------------------------------------------------------------------------\n",
      "AR.1            1.0954           +0.0000j            1.0954            0.0000\n",
      "MA.1          -52.1570           +0.0000j           52.1570            0.5000\n",
      "-----------------------------------------------------------------------------\n"
     ]
    }
   ],
   "source": [
    "model = sm.tsa.ARMA(y, (1,1), exog=x)\n",
    "r = model.fit()\n",
    "print(r.summary())"
   ]
  },
  {
   "cell_type": "markdown",
   "metadata": {},
   "source": [
    "#### 3-1. ACF plot"
   ]
  },
  {
   "cell_type": "code",
   "execution_count": 144,
   "metadata": {},
   "outputs": [
    {
     "data": {
      "text/plain": [
       "<Figure size 2160x1080 with 0 Axes>"
      ]
     },
     "metadata": {},
     "output_type": "display_data"
    },
    {
     "data": {
      "image/png": "[encoded data removed]",
      "text/plain": [
       "<Figure size 1080x360 with 1 Axes>"
      ]
     },
     "metadata": {},
     "output_type": "display_data"
    }
   ],
   "source": [
    "plt.figure(figsize=(30,15))\n",
    "sm.tsa.graphics.plot_acf(r.resid);"
   ]
  },
  {
   "cell_type": "markdown",
   "metadata": {},
   "source": [
    "#### 3-2. PACF plot  "
   ]
  },
  {
   "cell_type": "code",
   "execution_count": 99,
   "metadata": {
    "scrolled": false
   },
   "outputs": [
    {
     "name": "stderr",
     "output_type": "stream",
     "text": [
      "C:\\Anaconda\\lib\\site-packages\\statsmodels\\regression\\linear_model.py:1283: RuntimeWarning: invalid value encountered in sqrt\n",
      "  return rho, np.sqrt(sigmasq)\n"
     ]
    },
    {
     "data": {
      "text/plain": [
       "<Figure size 2160x1080 with 0 Axes>"
      ]
     },
     "metadata": {},
     "output_type": "display_data"
    },
    {
     "data": {
      "image/png": "[encoded data removed]",
      "text/plain": [
       "<Figure size 1080x360 with 1 Axes>"
      ]
     },
     "metadata": {},
     "output_type": "display_data"
    }
   ],
   "source": [
    "plt.figure(figsize=(30,15))\n",
    "sm.tsa.graphics.plot_pacf(r.resid);"
   ]
  },
  {
   "cell_type": "markdown",
   "metadata": {},
   "source": [
    "#### 3-3. 일조 예측"
   ]
  },
  {
   "cell_type": "code",
   "execution_count": 145,
   "metadata": {
    "scrolled": false
   },
   "outputs": [
    {
     "name": "stderr",
     "output_type": "stream",
     "text": [
      "C:\\Anaconda\\lib\\site-packages\\statsmodels\\tsa\\base\\tsa_model.py:531: ValueWarning: No supported index is available. Prediction results will be given with an integer index beginning at `start`.\n",
      "  ValueWarning)\n"
     ]
    }
   ],
   "source": [
    "yhat = r.predict(start=3024, end=3131, exog=exog)"
   ]
  },
  {
   "cell_type": "code",
   "execution_count": 146,
   "metadata": {
    "scrolled": true
   },
   "outputs": [
    {
     "data": {
      "text/plain": [
       "3024    0.085908\n",
       "3025    0.078781\n",
       "3026    0.072275\n",
       "3027    0.066335\n",
       "3028    0.101330\n",
       "3029    0.096379\n",
       "3030    0.091860\n",
       "3031    0.087733\n",
       "3032    0.118834\n",
       "3033    0.115395\n",
       "3034    0.112256\n",
       "3035    0.109389\n",
       "3036    0.135782\n",
       "3037    0.133393\n",
       "3038    0.131212\n",
       "3039    0.129221\n",
       "3040    0.163537\n",
       "3041    0.161877\n",
       "3042    0.160362\n",
       "3043    0.158979\n",
       "3044    0.158774\n",
       "3045    0.157621\n",
       "3046    0.156569\n",
       "3047    0.155608\n",
       "3048    0.150576\n",
       "3049    0.149775\n",
       "3050    0.149044\n",
       "3051    0.148376\n",
       "3052    0.136769\n",
       "3053    0.136213\n",
       "          ...   \n",
       "3102    0.175170\n",
       "3103    0.175164\n",
       "3104    0.205934\n",
       "3105    0.205929\n",
       "3106    0.205925\n",
       "3107    0.205921\n",
       "3108    0.225327\n",
       "3109    0.225323\n",
       "3110    0.225320\n",
       "3111    0.225317\n",
       "3112    0.235739\n",
       "3113    0.235737\n",
       "3114    0.235735\n",
       "3115    0.235733\n",
       "3116    0.241178\n",
       "3117    0.241176\n",
       "3118    0.241175\n",
       "3119    0.241173\n",
       "3120    0.237018\n",
       "3121    0.237017\n",
       "3122    0.237016\n",
       "3123    0.237015\n",
       "3124    0.229055\n",
       "3125    0.229054\n",
       "3126    0.229053\n",
       "3127    0.229053\n",
       "3128    0.218916\n",
       "3129    0.218916\n",
       "3130    0.218915\n",
       "3131    0.218915\n",
       "Length: 108, dtype: float64"
      ]
     },
     "execution_count": 146,
     "metadata": {},
     "output_type": "execute_result"
    }
   ],
   "source": [
    "yhat"
   ]
  },
  {
   "cell_type": "code",
   "execution_count": 147,
   "metadata": {
    "scrolled": true
   },
   "outputs": [],
   "source": [
    "#exog의 index를 칼럼으로 빼낸 후, index 칼럼을 time 칼럼으로 사용\n",
    "exog1 = exog.reset_index()\n",
    "yhat_ = pd.DataFrame(yhat)\n",
    "yhat_ = yhat_.reset_index()\n",
    "result = pd.DataFrame({\"pred_sunshine\":yhat_[0],\"time\":exog1['index']})"
   ]
  },
  {
   "cell_type": "code",
   "execution_count": 148,
   "metadata": {
    "scrolled": true
   },
   "outputs": [
    {
     "data": {
      "text/html": [
       "<div>\n",
       "<style scoped>\n",
       "    .dataframe tbody tr th:only-of-type {\n",
       "        vertical-align: middle;\n",
       "    }\n",
       "\n",
       "    .dataframe tbody tr th {\n",
       "        vertical-align: top;\n",
       "    }\n",
       "\n",
       "    .dataframe thead th {\n",
       "        text-align: right;\n",
       "    }\n",
       "</style>\n",
       "<table border=\"1\" class=\"dataframe\">\n",
       "  <thead>\n",
       "    <tr style=\"text-align: right;\">\n",
       "      <th></th>\n",
       "      <th>pred_sunshine</th>\n",
       "      <th>time</th>\n",
       "    </tr>\n",
       "  </thead>\n",
       "  <tbody>\n",
       "    <tr>\n",
       "      <th>0</th>\n",
       "      <td>0.085908</td>\n",
       "      <td>2019-03-05 09:00:00</td>\n",
       "    </tr>\n",
       "    <tr>\n",
       "      <th>1</th>\n",
       "      <td>0.078781</td>\n",
       "      <td>2019-03-05 09:15:00</td>\n",
       "    </tr>\n",
       "    <tr>\n",
       "      <th>2</th>\n",
       "      <td>0.072275</td>\n",
       "      <td>2019-03-05 09:30:00</td>\n",
       "    </tr>\n",
       "    <tr>\n",
       "      <th>3</th>\n",
       "      <td>0.066335</td>\n",
       "      <td>2019-03-05 09:45:00</td>\n",
       "    </tr>\n",
       "    <tr>\n",
       "      <th>4</th>\n",
       "      <td>0.101330</td>\n",
       "      <td>2019-03-05 10:00:00</td>\n",
       "    </tr>\n",
       "    <tr>\n",
       "      <th>5</th>\n",
       "      <td>0.096379</td>\n",
       "      <td>2019-03-05 10:15:00</td>\n",
       "    </tr>\n",
       "    <tr>\n",
       "      <th>6</th>\n",
       "      <td>0.091860</td>\n",
       "      <td>2019-03-05 10:30:00</td>\n",
       "    </tr>\n",
       "    <tr>\n",
       "      <th>7</th>\n",
       "      <td>0.087733</td>\n",
       "      <td>2019-03-05 10:45:00</td>\n",
       "    </tr>\n",
       "    <tr>\n",
       "      <th>8</th>\n",
       "      <td>0.118834</td>\n",
       "      <td>2019-03-05 11:00:00</td>\n",
       "    </tr>\n",
       "    <tr>\n",
       "      <th>9</th>\n",
       "      <td>0.115395</td>\n",
       "      <td>2019-03-05 11:15:00</td>\n",
       "    </tr>\n",
       "    <tr>\n",
       "      <th>10</th>\n",
       "      <td>0.112256</td>\n",
       "      <td>2019-03-05 11:30:00</td>\n",
       "    </tr>\n",
       "    <tr>\n",
       "      <th>11</th>\n",
       "      <td>0.109389</td>\n",
       "      <td>2019-03-05 11:45:00</td>\n",
       "    </tr>\n",
       "    <tr>\n",
       "      <th>12</th>\n",
       "      <td>0.135782</td>\n",
       "      <td>2019-03-05 12:00:00</td>\n",
       "    </tr>\n",
       "    <tr>\n",
       "      <th>13</th>\n",
       "      <td>0.133393</td>\n",
       "      <td>2019-03-05 12:15:00</td>\n",
       "    </tr>\n",
       "    <tr>\n",
       "      <th>14</th>\n",
       "      <td>0.131212</td>\n",
       "      <td>2019-03-05 12:30:00</td>\n",
       "    </tr>\n",
       "    <tr>\n",
       "      <th>15</th>\n",
       "      <td>0.129221</td>\n",
       "      <td>2019-03-05 12:45:00</td>\n",
       "    </tr>\n",
       "    <tr>\n",
       "      <th>16</th>\n",
       "      <td>0.163537</td>\n",
       "      <td>2019-03-05 13:00:00</td>\n",
       "    </tr>\n",
       "    <tr>\n",
       "      <th>17</th>\n",
       "      <td>0.161877</td>\n",
       "      <td>2019-03-05 13:15:00</td>\n",
       "    </tr>\n",
       "    <tr>\n",
       "      <th>18</th>\n",
       "      <td>0.160362</td>\n",
       "      <td>2019-03-05 13:30:00</td>\n",
       "    </tr>\n",
       "    <tr>\n",
       "      <th>19</th>\n",
       "      <td>0.158979</td>\n",
       "      <td>2019-03-05 13:45:00</td>\n",
       "    </tr>\n",
       "    <tr>\n",
       "      <th>20</th>\n",
       "      <td>0.158774</td>\n",
       "      <td>2019-03-05 14:00:00</td>\n",
       "    </tr>\n",
       "    <tr>\n",
       "      <th>21</th>\n",
       "      <td>0.157621</td>\n",
       "      <td>2019-03-05 14:15:00</td>\n",
       "    </tr>\n",
       "    <tr>\n",
       "      <th>22</th>\n",
       "      <td>0.156569</td>\n",
       "      <td>2019-03-05 14:30:00</td>\n",
       "    </tr>\n",
       "    <tr>\n",
       "      <th>23</th>\n",
       "      <td>0.155608</td>\n",
       "      <td>2019-03-05 14:45:00</td>\n",
       "    </tr>\n",
       "    <tr>\n",
       "      <th>24</th>\n",
       "      <td>0.150576</td>\n",
       "      <td>2019-03-05 15:00:00</td>\n",
       "    </tr>\n",
       "    <tr>\n",
       "      <th>25</th>\n",
       "      <td>0.149775</td>\n",
       "      <td>2019-03-05 15:15:00</td>\n",
       "    </tr>\n",
       "    <tr>\n",
       "      <th>26</th>\n",
       "      <td>0.149044</td>\n",
       "      <td>2019-03-05 15:30:00</td>\n",
       "    </tr>\n",
       "    <tr>\n",
       "      <th>27</th>\n",
       "      <td>0.148376</td>\n",
       "      <td>2019-03-05 15:45:00</td>\n",
       "    </tr>\n",
       "    <tr>\n",
       "      <th>28</th>\n",
       "      <td>0.136769</td>\n",
       "      <td>2019-03-05 16:00:00</td>\n",
       "    </tr>\n",
       "    <tr>\n",
       "      <th>29</th>\n",
       "      <td>0.136213</td>\n",
       "      <td>2019-03-05 16:15:00</td>\n",
       "    </tr>\n",
       "    <tr>\n",
       "      <th>...</th>\n",
       "      <td>...</td>\n",
       "      <td>...</td>\n",
       "    </tr>\n",
       "    <tr>\n",
       "      <th>78</th>\n",
       "      <td>0.175170</td>\n",
       "      <td>2019-03-07 10:30:00</td>\n",
       "    </tr>\n",
       "    <tr>\n",
       "      <th>79</th>\n",
       "      <td>0.175164</td>\n",
       "      <td>2019-03-07 10:45:00</td>\n",
       "    </tr>\n",
       "    <tr>\n",
       "      <th>80</th>\n",
       "      <td>0.205934</td>\n",
       "      <td>2019-03-07 11:00:00</td>\n",
       "    </tr>\n",
       "    <tr>\n",
       "      <th>81</th>\n",
       "      <td>0.205929</td>\n",
       "      <td>2019-03-07 11:15:00</td>\n",
       "    </tr>\n",
       "    <tr>\n",
       "      <th>82</th>\n",
       "      <td>0.205925</td>\n",
       "      <td>2019-03-07 11:30:00</td>\n",
       "    </tr>\n",
       "    <tr>\n",
       "      <th>83</th>\n",
       "      <td>0.205921</td>\n",
       "      <td>2019-03-07 11:45:00</td>\n",
       "    </tr>\n",
       "    <tr>\n",
       "      <th>84</th>\n",
       "      <td>0.225327</td>\n",
       "      <td>2019-03-07 12:00:00</td>\n",
       "    </tr>\n",
       "    <tr>\n",
       "      <th>85</th>\n",
       "      <td>0.225323</td>\n",
       "      <td>2019-03-07 12:15:00</td>\n",
       "    </tr>\n",
       "    <tr>\n",
       "      <th>86</th>\n",
       "      <td>0.225320</td>\n",
       "      <td>2019-03-07 12:30:00</td>\n",
       "    </tr>\n",
       "    <tr>\n",
       "      <th>87</th>\n",
       "      <td>0.225317</td>\n",
       "      <td>2019-03-07 12:45:00</td>\n",
       "    </tr>\n",
       "    <tr>\n",
       "      <th>88</th>\n",
       "      <td>0.235739</td>\n",
       "      <td>2019-03-07 13:00:00</td>\n",
       "    </tr>\n",
       "    <tr>\n",
       "      <th>89</th>\n",
       "      <td>0.235737</td>\n",
       "      <td>2019-03-07 13:15:00</td>\n",
       "    </tr>\n",
       "    <tr>\n",
       "      <th>90</th>\n",
       "      <td>0.235735</td>\n",
       "      <td>2019-03-07 13:30:00</td>\n",
       "    </tr>\n",
       "    <tr>\n",
       "      <th>91</th>\n",
       "      <td>0.235733</td>\n",
       "      <td>2019-03-07 13:45:00</td>\n",
       "    </tr>\n",
       "    <tr>\n",
       "      <th>92</th>\n",
       "      <td>0.241178</td>\n",
       "      <td>2019-03-07 14:00:00</td>\n",
       "    </tr>\n",
       "    <tr>\n",
       "      <th>93</th>\n",
       "      <td>0.241176</td>\n",
       "      <td>2019-03-07 14:15:00</td>\n",
       "    </tr>\n",
       "    <tr>\n",
       "      <th>94</th>\n",
       "      <td>0.241175</td>\n",
       "      <td>2019-03-07 14:30:00</td>\n",
       "    </tr>\n",
       "    <tr>\n",
       "      <th>95</th>\n",
       "      <td>0.241173</td>\n",
       "      <td>2019-03-07 14:45:00</td>\n",
       "    </tr>\n",
       "    <tr>\n",
       "      <th>96</th>\n",
       "      <td>0.237018</td>\n",
       "      <td>2019-03-07 15:00:00</td>\n",
       "    </tr>\n",
       "    <tr>\n",
       "      <th>97</th>\n",
       "      <td>0.237017</td>\n",
       "      <td>2019-03-07 15:15:00</td>\n",
       "    </tr>\n",
       "    <tr>\n",
       "      <th>98</th>\n",
       "      <td>0.237016</td>\n",
       "      <td>2019-03-07 15:30:00</td>\n",
       "    </tr>\n",
       "    <tr>\n",
       "      <th>99</th>\n",
       "      <td>0.237015</td>\n",
       "      <td>2019-03-07 15:45:00</td>\n",
       "    </tr>\n",
       "    <tr>\n",
       "      <th>100</th>\n",
       "      <td>0.229055</td>\n",
       "      <td>2019-03-07 16:00:00</td>\n",
       "    </tr>\n",
       "    <tr>\n",
       "      <th>101</th>\n",
       "      <td>0.229054</td>\n",
       "      <td>2019-03-07 16:15:00</td>\n",
       "    </tr>\n",
       "    <tr>\n",
       "      <th>102</th>\n",
       "      <td>0.229053</td>\n",
       "      <td>2019-03-07 16:30:00</td>\n",
       "    </tr>\n",
       "    <tr>\n",
       "      <th>103</th>\n",
       "      <td>0.229053</td>\n",
       "      <td>2019-03-07 16:45:00</td>\n",
       "    </tr>\n",
       "    <tr>\n",
       "      <th>104</th>\n",
       "      <td>0.218916</td>\n",
       "      <td>2019-03-07 17:00:00</td>\n",
       "    </tr>\n",
       "    <tr>\n",
       "      <th>105</th>\n",
       "      <td>0.218916</td>\n",
       "      <td>2019-03-07 17:15:00</td>\n",
       "    </tr>\n",
       "    <tr>\n",
       "      <th>106</th>\n",
       "      <td>0.218915</td>\n",
       "      <td>2019-03-07 17:30:00</td>\n",
       "    </tr>\n",
       "    <tr>\n",
       "      <th>107</th>\n",
       "      <td>0.218915</td>\n",
       "      <td>2019-03-07 17:45:00</td>\n",
       "    </tr>\n",
       "  </tbody>\n",
       "</table>\n",
       "<p>108 rows × 2 columns</p>\n",
       "</div>"
      ],
      "text/plain": [
       "     pred_sunshine                time\n",
       "0         0.085908 2019-03-05 09:00:00\n",
       "1         0.078781 2019-03-05 09:15:00\n",
       "2         0.072275 2019-03-05 09:30:00\n",
       "3         0.066335 2019-03-05 09:45:00\n",
       "4         0.101330 2019-03-05 10:00:00\n",
       "5         0.096379 2019-03-05 10:15:00\n",
       "6         0.091860 2019-03-05 10:30:00\n",
       "7         0.087733 2019-03-05 10:45:00\n",
       "8         0.118834 2019-03-05 11:00:00\n",
       "9         0.115395 2019-03-05 11:15:00\n",
       "10        0.112256 2019-03-05 11:30:00\n",
       "11        0.109389 2019-03-05 11:45:00\n",
       "12        0.135782 2019-03-05 12:00:00\n",
       "13        0.133393 2019-03-05 12:15:00\n",
       "14        0.131212 2019-03-05 12:30:00\n",
       "15        0.129221 2019-03-05 12:45:00\n",
       "16        0.163537 2019-03-05 13:00:00\n",
       "17        0.161877 2019-03-05 13:15:00\n",
       "18        0.160362 2019-03-05 13:30:00\n",
       "19        0.158979 2019-03-05 13:45:00\n",
       "20        0.158774 2019-03-05 14:00:00\n",
       "21        0.157621 2019-03-05 14:15:00\n",
       "22        0.156569 2019-03-05 14:30:00\n",
       "23        0.155608 2019-03-05 14:45:00\n",
       "24        0.150576 2019-03-05 15:00:00\n",
       "25        0.149775 2019-03-05 15:15:00\n",
       "26        0.149044 2019-03-05 15:30:00\n",
       "27        0.148376 2019-03-05 15:45:00\n",
       "28        0.136769 2019-03-05 16:00:00\n",
       "29        0.136213 2019-03-05 16:15:00\n",
       "..             ...                 ...\n",
       "78        0.175170 2019-03-07 10:30:00\n",
       "79        0.175164 2019-03-07 10:45:00\n",
       "80        0.205934 2019-03-07 11:00:00\n",
       "81        0.205929 2019-03-07 11:15:00\n",
       "82        0.205925 2019-03-07 11:30:00\n",
       "83        0.205921 2019-03-07 11:45:00\n",
       "84        0.225327 2019-03-07 12:00:00\n",
       "85        0.225323 2019-03-07 12:15:00\n",
       "86        0.225320 2019-03-07 12:30:00\n",
       "87        0.225317 2019-03-07 12:45:00\n",
       "88        0.235739 2019-03-07 13:00:00\n",
       "89        0.235737 2019-03-07 13:15:00\n",
       "90        0.235735 2019-03-07 13:30:00\n",
       "91        0.235733 2019-03-07 13:45:00\n",
       "92        0.241178 2019-03-07 14:00:00\n",
       "93        0.241176 2019-03-07 14:15:00\n",
       "94        0.241175 2019-03-07 14:30:00\n",
       "95        0.241173 2019-03-07 14:45:00\n",
       "96        0.237018 2019-03-07 15:00:00\n",
       "97        0.237017 2019-03-07 15:15:00\n",
       "98        0.237016 2019-03-07 15:30:00\n",
       "99        0.237015 2019-03-07 15:45:00\n",
       "100       0.229055 2019-03-07 16:00:00\n",
       "101       0.229054 2019-03-07 16:15:00\n",
       "102       0.229053 2019-03-07 16:30:00\n",
       "103       0.229053 2019-03-07 16:45:00\n",
       "104       0.218916 2019-03-07 17:00:00\n",
       "105       0.218916 2019-03-07 17:15:00\n",
       "106       0.218915 2019-03-07 17:30:00\n",
       "107       0.218915 2019-03-07 17:45:00\n",
       "\n",
       "[108 rows x 2 columns]"
      ]
     },
     "execution_count": 148,
     "metadata": {},
     "output_type": "execute_result"
    }
   ],
   "source": [
    "result"
   ]
  },
  {
   "cell_type": "markdown",
   "metadata": {},
   "source": [
    "#### 3-4. 결과값 추세 확인  "
   ]
  },
  {
   "cell_type": "code",
   "execution_count": 149,
   "metadata": {},
   "outputs": [
    {
     "data": {
      "text/plain": [
       "[<matplotlib.lines.Line2D at 0x225030a8c50>]"
      ]
     },
     "execution_count": 149,
     "metadata": {},
     "output_type": "execute_result"
    },
    {
     "data": {
      "image/png": "[encoded data removed]",
      "text/plain": [
       "<Figure size 576x216 with 1 Axes>"
      ]
     },
     "metadata": {},
     "output_type": "display_data"
    }
   ],
   "source": [
    "plt.figure(figsize=(8,3))\n",
    "plt.plot(result['pred_sunshine'])"
   ]
  },
  {
   "cell_type": "code",
   "execution_count": 49,
   "metadata": {},
   "outputs": [],
   "source": [
    "result.to_excel('F:\\\\2차 제출 데이터\\\\sunshine_forecast.xlsx', 'sheet1',index=False, engine='xlsxwriter')"
   ]
  }
 ],
 "metadata": {
  "kernelspec": {
   "display_name": "Python 3",
   "language": "python",
   "name": "python3"
  },
  "language_info": {
   "codemirror_mode": {
    "name": "ipython",
    "version": 3
   },
   "file_extension": ".py",
   "mimetype": "text/x-python",
   "name": "python",
   "nbconvert_exporter": "python",
   "pygments_lexer": "ipython3",
   "version": "3.6.5"
  }
 },
 "nbformat": 4,
 "nbformat_minor": 2
}
